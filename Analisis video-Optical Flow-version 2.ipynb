{
 "cells": [
  {
   "cell_type": "code",
   "execution_count": 46,
   "metadata": {},
   "outputs": [],
   "source": [
    "import cv2\n",
    "import numpy as np\n",
    "import time"
   ]
  },
  {
   "cell_type": "code",
   "execution_count": 47,
   "metadata": {},
   "outputs": [],
   "source": [
    "#np.linalg.norm([-2,2])"
   ]
  },
  {
   "cell_type": "code",
   "execution_count": null,
   "metadata": {},
   "outputs": [],
   "source": []
  },
  {
   "cell_type": "code",
   "execution_count": 69,
   "metadata": {},
   "outputs": [],
   "source": [
    "#Importar video\n",
    "\n",
    "fileName='PC124surfTrim203-2.mp4'\n",
    "cap = cv2.VideoCapture(fileName)\n",
    "\n",
    "\n",
    "cantidadFrames=5\n",
    "#por que se usa un tipo de video sin ningun tipo de estabilizacion, \n",
    "#el codigo funciona mejor con una cantidad muy limitada de frames\n",
    "\n",
    "\n",
    "skipframes=300\n",
    "#saltea una cantidad x de frames al inicio"
   ]
  },
  {
   "cell_type": "markdown",
   "metadata": {},
   "source": [
    "# Parametros para lk_track"
   ]
  },
  {
   "cell_type": "markdown",
   "metadata": {},
   "source": [
    "# problemas actuales:\n",
    "*detectar cual marcador corresponde con el siguiente en la deteccion\n",
    "\n",
    "*analizar hacia adonde se dirige el flujo"
   ]
  },
  {
   "cell_type": "code",
   "execution_count": 70,
   "metadata": {},
   "outputs": [],
   "source": [
    "mask=0\n",
    "# params for ShiTomasi corner detection\n",
    "feature_params = dict( maxCorners = 100,\n",
    "                       qualityLevel = 0.3,\n",
    "                       minDistance = 7,\n",
    "                       blockSize = 7 )\n",
    "# Parameters for lucas kanade optical flow\n",
    "lk_params = dict( winSize  = (15,15),\n",
    "                  maxLevel = 2,\n",
    "                  criteria = (cv2.TERM_CRITERIA_EPS | cv2.TERM_CRITERIA_COUNT, 10, 0.03))\n",
    "# Create some random colors\n",
    "color = np.random.randint(0,255,(100,3))\n",
    "\n",
    "#numero de frames que saltea al inicio\n",
    "while(skipframes):\n",
    "    cap.read()\n",
    "    skipframes-=1\n",
    "    \n",
    "# Take first frame and find corners in it\n",
    "ret, old_frame = cap.read()\n",
    "old_gray = cv2.cvtColor(old_frame, cv2.COLOR_BGR2GRAY)\n",
    "p0 = cv2.goodFeaturesToTrack(old_gray, mask = None, **feature_params)\n",
    "\n",
    "puntos=np.zeros([p0.shape[0],cantidadFrames+2,2])#arreglo de puntos para analizar\n",
    "\n",
    "# Create a mask image for drawing purposes\n",
    "mask = np.zeros_like(old_frame)\n",
    "actualFrame=0\n",
    "while(actualFrame<=cantidadFrames):\n",
    "    actualFrame+=1\n",
    "    ret,frame = cap.read()\n",
    "    frame_gray = cv2.cvtColor(frame, cv2.COLOR_BGR2GRAY)\n",
    "    # calculate optical flow\n",
    "    p1, st, err = cv2.calcOpticalFlowPyrLK(old_gray, frame_gray, p0, None, **lk_params)\n",
    "    # Select good points\n",
    "    good_new = p1[st==1]\n",
    "    good_old = p0[st==1]\n",
    "    \n",
    "    \n",
    "    #anaizar correspodencia entre puntos buenos viejos y nuevos\n",
    "    #limito a un maximo de \"100(x)\" los puntos\n",
    "    if actualFrame==1:\n",
    "        for a in range (0,good_old.shape[0]):#optimizar\n",
    "            puntos[a,0,:]=good_old[a]\n",
    "                \n",
    "    cantidadPuntosNuevos,v =good_new.shape\n",
    "    for pos in range (0, cantidadPuntosNuevos):\n",
    "        for pospuntos in range (0,puntos.shape[0]):\n",
    "            x=puntos[pospuntos,actualFrame-1,0]-good_new[pos,0]#distancia en x\n",
    "            y=puntos[pospuntos,actualFrame-1,1]-good_new[pos,1]#distancia en y\n",
    "            dist=np.linalg.norm([x,y])#distancia entre los 2 puntos\n",
    "            if dist<10:#si la distancia es menor a 10 \"pixeles\" coloca el punto como coincidente con el anterior\n",
    "                puntos[pospuntos,actualFrame]=good_new[pos]\n",
    "                \n",
    "                #if puntos[pospuntos,actualFrame]==[0,0]:\n",
    "                #    puntos[pospuntos,actualFrame]=good_new[pos]\n",
    "                #else:\n",
    "                #    comparar cual tiene distancia minima con el punto anterior\n",
    "                    \n",
    "    \n",
    "    \n",
    "    \n",
    "    \n",
    "    #np.append(puntos,p1,actualFrame) #arreglo de puntos destacados \n",
    "    #time.sleep(2)#pausa para ver el programa\n",
    "    \n",
    "    # draw the tracks\n",
    "    for i,(new,old) in enumerate(zip(good_new,good_old)):\n",
    "        a,b = new.ravel()\n",
    "        c,d = old.ravel()\n",
    "        mask = cv2.line(mask, (a,b),(c,d), color[i].tolist(), 2)\n",
    "        frame = cv2.circle(frame,(a,b),5,color[i].tolist(),-1)\n",
    "    img = cv2.add(frame,mask)\n",
    "    cv2.imshow('frame',img)\n",
    "    \n",
    "    k = cv2.waitKey(30) & 0xff\n",
    "    if k == 27:\n",
    "        break\n",
    "    # Now update the previous frame and previous points\n",
    "    old_gray = frame_gray.copy()\n",
    "    p0 = good_new.reshape(-1,1,2)\n",
    "cv2.destroyAllWindows()\n",
    "cap.release()"
   ]
  },
  {
   "cell_type": "markdown",
   "metadata": {},
   "source": [
    "# Analisis de puntos obtenidos"
   ]
  },
  {
   "cell_type": "code",
   "execution_count": 88,
   "metadata": {},
   "outputs": [
    {
     "data": {
      "text/plain": [
       "(100, 7, 2)"
      ]
     },
     "execution_count": 88,
     "metadata": {},
     "output_type": "execute_result"
    }
   ],
   "source": [
    "puntos.shape"
   ]
  },
  {
   "cell_type": "code",
   "execution_count": 110,
   "metadata": {},
   "outputs": [
    {
     "data": {
      "text/plain": [
       "(98, 14)"
      ]
     },
     "execution_count": 110,
     "metadata": {},
     "output_type": "execute_result"
    }
   ],
   "source": [
    "#limpia ordena los puntos y quita las filas con solo 0\n",
    "puntosLimp=puntos[:,~np.all(puntos == 0, axis=0)]\n",
    "puntosLimp2=puntosLimp[~np.all(puntosLimp == 0, axis=1)]\n",
    "puntosLimp2.shape#los ordeno en un arreglo de 2 dimension para poder guardar el archivo mas facil"
   ]
  },
  {
   "cell_type": "code",
   "execution_count": 114,
   "metadata": {},
   "outputs": [],
   "source": [
    "#calculo del angulo y modulo de desplazamiento de los puntos\n",
    "angulo=np.zeros(puntosLimp2.shape[0])\n",
    "modulo=np.zeros(puntosLimp2.shape[0])\n",
    "\n",
    "for pos in range (2, puntosLimp2.shape[0]):\n",
    "    contador=0\n",
    "    mod=0\n",
    "    ang=0\n",
    "    for elemento in range (2,puntosLimp2.shape[1],2):\n",
    "        if puntosLimp2[pos,elemento]!=0:\n",
    "            contador+=1\n",
    "            x=puntosLimp2[pos,elemento-2]-puntosLimp2[pos,elemento]\n",
    "            y=puntosLimp2[pos,elemento-1]-puntosLimp2[pos,elemento+1]\n",
    "            mod+=np.linalg.norm([x,y])#distancia entre los 2 puntos\n",
    "            ang+=np.angle(x+y*1j,deg=True)\n",
    "           \n",
    "    if contador!=0:\n",
    "        modulo[pos]=mod/contador\n",
    "        angulo[pos]=ang/contador\n",
    "\n"
   ]
  },
  {
   "cell_type": "code",
   "execution_count": 118,
   "metadata": {},
   "outputs": [
    {
     "data": {
      "text/plain": [
       "22.20105861946757"
      ]
     },
     "execution_count": 118,
     "metadata": {},
     "output_type": "execute_result"
    }
   ],
   "source": [
    "anguloprom=np.average(angulo)\n",
    "anguloprom"
   ]
  },
  {
   "cell_type": "code",
   "execution_count": 119,
   "metadata": {},
   "outputs": [
    {
     "data": {
      "text/plain": [
       "6.780783225249452"
      ]
     },
     "execution_count": 119,
     "metadata": {},
     "output_type": "execute_result"
    }
   ],
   "source": [
    "moduloprim=np.average(modulo)\n",
    "moduloprim"
   ]
  },
  {
   "cell_type": "markdown",
   "metadata": {},
   "source": [
    "# Calcular errores medios cuadraticos"
   ]
  },
  {
   "cell_type": "code",
   "execution_count": null,
   "metadata": {},
   "outputs": [],
   "source": []
  },
  {
   "cell_type": "code",
   "execution_count": 104,
   "metadata": {},
   "outputs": [
    {
     "data": {
      "text/plain": [
       "(339, 2)"
      ]
     },
     "execution_count": 104,
     "metadata": {},
     "output_type": "execute_result"
    }
   ],
   "source": [
    "puntosLimp=puntos[~np.all(puntos == 0, axis=2)]\n",
    "puntosLimp.shape"
   ]
  },
  {
   "cell_type": "code",
   "execution_count": 106,
   "metadata": {},
   "outputs": [],
   "source": [
    "np.savetxt('puntos.out', puntos[1,:,:], delimiter=',')\n",
    "np.savetxt('puntosLimp.out', puntosLimp[:,:], delimiter=',')"
   ]
  },
  {
   "cell_type": "code",
   "execution_count": 84,
   "metadata": {},
   "outputs": [
    {
     "data": {
      "text/plain": [
       "array([[2, 2, 2],\n",
       "       [1, 1, 1]])"
      ]
     },
     "execution_count": 84,
     "metadata": {},
     "output_type": "execute_result"
    }
   ],
   "source": [
    "a=np.array([[2,2,2],[0,0,0],[1,1,1]])\n",
    "a[~np.all(a == 0, axis=1)]"
   ]
  },
  {
   "cell_type": "code",
   "execution_count": null,
   "metadata": {},
   "outputs": [],
   "source": []
  }
 ],
 "metadata": {
  "kernelspec": {
   "display_name": "Python 3",
   "language": "python",
   "name": "python3"
  },
  "language_info": {
   "codemirror_mode": {
    "name": "ipython",
    "version": 3
   },
   "file_extension": ".py",
   "mimetype": "text/x-python",
   "name": "python",
   "nbconvert_exporter": "python",
   "pygments_lexer": "ipython3",
   "version": "3.6.4"
  }
 },
 "nbformat": 4,
 "nbformat_minor": 2
}
