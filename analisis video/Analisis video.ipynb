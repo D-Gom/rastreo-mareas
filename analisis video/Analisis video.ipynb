{
 "cells": [
  {
   "cell_type": "markdown",
   "metadata": {},
   "source": [
    "# Necessary python packages:\n",
    "cv2        -- OpenCV python bindings\n",
    "numpy      -- Array library used for manipulating data \n",
    "\n",
    "The following python packages are necessary to use the video.analysis package:\n",
    "scipy      -- for manipulating images\n",
    "shapely    -- for manipulating shapes\n",
    "\n",
    "Optional python packages:\n",
    "tqdm      -- for showing a progress bar while iterating\n",
    "sharedmem -- for showing the debug video in a separate process while iterating\n",
    "json      -- for parsing output of ffprobe\n",
    "\n",
    "Note that this package uses the `fcntl` package and thus only works reliably\n",
    "on UNIX systems."
   ]
  },
  {
   "cell_type": "code",
   "execution_count": 6,
   "metadata": {},
   "outputs": [],
   "source": [
    "import cv2\n",
    "import numpy as np"
   ]
  },
  {
   "cell_type": "code",
   "execution_count": 7,
   "metadata": {},
   "outputs": [],
   "source": [
    "#Importar video\n",
    "\n",
    "#fileName='vistacerca.mp4'\n",
    "fileName='vistalejos.mp4'"
   ]
  },
  {
   "cell_type": "code",
   "execution_count": 8,
   "metadata": {},
   "outputs": [],
   "source": [
    "cap = cv2.VideoCapture(fileName)          # load the video\n",
    "while(cap.isOpened()):                    # play the video by reading frame by frame\n",
    "    ret, frame = cap.read()\n",
    "    if ret==True:\n",
    "        # optional: do some image processing here \n",
    "    \n",
    "        cv2.imshow('frame',frame)              # show the video\n",
    "        if cv2.waitKey(1) & 0xFF == ord('q'):\n",
    "            break\n",
    "    else:\n",
    "        break\n",
    "cap.release()\n",
    "cv2.destroyAllWindows()"
   ]
  },
  {
   "cell_type": "code",
   "execution_count": null,
   "metadata": {},
   "outputs": [],
   "source": []
  }
 ],
 "metadata": {
  "kernelspec": {
   "display_name": "Python 3",
   "language": "python",
   "name": "python3"
  },
  "language_info": {
   "codemirror_mode": {
    "name": "ipython",
    "version": 3
   },
   "file_extension": ".py",
   "mimetype": "text/x-python",
   "name": "python",
   "nbconvert_exporter": "python",
   "pygments_lexer": "ipython3",
   "version": "3.6.4"
  }
 },
 "nbformat": 4,
 "nbformat_minor": 2
}
